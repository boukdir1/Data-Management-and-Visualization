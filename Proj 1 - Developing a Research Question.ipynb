{
 "cells": [
  {
   "cell_type": "markdown",
   "metadata": {},
   "source": [
    "# Data Management and Visualization\n",
    "### June 20, 2020\n",
    "### Week 1: Developing a Research Question\n",
    "\n",
    "While working in international development, at the same time I have lived in several different countries. Also I have a great interest in technology and how it can affect our lives. Therefore, I began to explore the GapMinder dataset ([gapminder.csv](https://d396qusza40orc.cloudfront.net/phoenixassets/data-management-visualization/gapminder.csv)) since it was created to study development goals. In particular, I would like to study how Internet penetration can affect the quality of working life in a country. \n",
    "\n",
    "One relationship I want to examine is how a country's political score, which measures the democratic and free nature of a country, is being affected by its rate of Internet use. But I think some interesting side issues would be how the political score correlates with the overall employment rate and also with the employment rate of women, as an indicator of progressive opinions in the workplace. Furthermore, income per capita could be an interesting aspect of this exploration.\n",
    "\n",
    "A search of Google Scholar for the phrase “polity score and internet penetration” reveals more than 19,000 links. The articles all seem to agree that greater access to the internet is a boost to democratic institutions. For instance, a report by the [International Communication Gazette](http://journals.sagepub.com/doi/abs/10.1177/1748048508100909) presents their own research findings that increased internet diffusion is a meaningful predictor of more democratic regimes. The [Bulletin of Science, Technology & Society](http://journals.sagepub.com/doi/abs/10.1177/0270467609336304) finds that while internet usage from 1992 until 2000 was not a powerful predictor of democratic tendencies in a country, internet usage from 2001 and 2002 was very strongly correlated. Lastly, The [Journal of Communication](http://onlinelibrary.wiley.com/doi/10.1111/j.1460-2466.2012.01627.x/full), found it was not internet penetration in a country which could predict the polity score, but specifically internet use.\n",
    "\n",
    "From this research, my hypothesis is that Internet usage and politeness score will be strongly positively correlated. I also suspect that a high employment rate and a high female employment rate, as well as a high per capita income, would be linked to a country's political score."
   ]
  },
  {
   "cell_type": "code",
   "execution_count": null,
   "metadata": {},
   "outputs": [],
   "source": []
  }
 ],
 "metadata": {
  "anaconda-cloud": {},
  "kernelspec": {
   "display_name": "Python 3",
   "language": "python",
   "name": "python3"
  },
  "language_info": {
   "codemirror_mode": {
    "name": "ipython",
    "version": 3
   },
   "file_extension": ".py",
   "mimetype": "text/x-python",
   "name": "python",
   "nbconvert_exporter": "python",
   "pygments_lexer": "ipython3",
   "version": "3.6.5"
  }
 },
 "nbformat": 4,
 "nbformat_minor": 1
}
